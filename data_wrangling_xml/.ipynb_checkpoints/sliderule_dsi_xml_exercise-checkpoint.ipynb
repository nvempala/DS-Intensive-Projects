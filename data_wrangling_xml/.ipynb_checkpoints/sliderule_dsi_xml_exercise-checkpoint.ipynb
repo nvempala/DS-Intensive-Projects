{
 "cells": [
  {
   "cell_type": "markdown",
   "metadata": {},
   "source": [
    "# XML example and exercise\n",
    "****\n",
    "+ study examples of accessing nodes in XML tree structure  \n",
    "+ work on exercise to be completed and submitted\n",
    "****\n",
    "+ reference: https://docs.python.org/2.7/library/xml.etree.elementtree.html\n",
    "+ data source: http://www.dbis.informatik.uni-goettingen.de/Mondial\n",
    "****"
   ]
  },
  {
   "cell_type": "code",
   "execution_count": 1,
   "metadata": {
    "collapsed": true
   },
   "outputs": [],
   "source": [
    "from xml.etree import ElementTree as ET"
   ]
  },
  {
   "cell_type": "markdown",
   "metadata": {},
   "source": [
    "## XML example\n",
    "\n",
    "+ for details about tree traversal and iterators, see https://docs.python.org/2.7/library/xml.etree.elementtree.html"
   ]
  },
  {
   "cell_type": "code",
   "execution_count": 2,
   "metadata": {
    "collapsed": true
   },
   "outputs": [],
   "source": [
    "document_tree = ET.parse( './data/mondial_database_less.xml' )"
   ]
  },
  {
   "cell_type": "code",
   "execution_count": 3,
   "metadata": {
    "collapsed": false
   },
   "outputs": [
    {
     "name": "stdout",
     "output_type": "stream",
     "text": [
      "Albania\n",
      "Greece\n",
      "Macedonia\n",
      "Serbia\n",
      "Montenegro\n",
      "Kosovo\n",
      "Andorra\n"
     ]
    }
   ],
   "source": [
    "# print names of all countries\n",
    "for child in document_tree.getroot():\n",
    "    print child.find('name').text"
   ]
  },
  {
   "cell_type": "code",
   "execution_count": 4,
   "metadata": {
    "collapsed": false
   },
   "outputs": [
    {
     "name": "stdout",
     "output_type": "stream",
     "text": [
      "* Albania: Tirana, Shkodër, Durrës, Vlorë, Elbasan, Korçë\n",
      "* Greece: Komotini, Kavala, Athina, Peiraias, Peristeri, Acharnes, Patra, Kozani, Kerkyra, Ioannina, Thessaloniki, Iraklio, Chania, Ermoupoli, Rhodes, Tripoli, Lamia, Chalkida, Larissa, Volos, Mytilini, Karyes\n",
      "* Macedonia: Skopje, Kumanovo\n",
      "* Serbia: Beograd, Novi Sad, Niš\n",
      "* Montenegro: Podgorica\n",
      "* Kosovo: Prishtine\n",
      "* Andorra: Andorra la Vella\n"
     ]
    }
   ],
   "source": [
    "# print names of all countries and their cities\n",
    "for element in document_tree.iterfind('country'):\n",
    "    print '* ' + element.find('name').text + ':',\n",
    "    capitals_string = ''\n",
    "    for subelement in element.getiterator('city'):\n",
    "        capitals_string += subelement.find('name').text + ', '\n",
    "    print capitals_string[:-2]"
   ]
  },
  {
   "cell_type": "markdown",
   "metadata": {},
   "source": [
    "****\n",
    "## XML exercise\n",
    "\n",
    "Using data in 'data/mondial_database.xml', the examples above, and refering to https://docs.python.org/2.7/library/xml.etree.elementtree.html, find\n",
    "\n",
    "1. 10 countries with the lowest infant mortality rates\n",
    "2. 10 cities with the largest population\n",
    "3. 10 ethnic groups with the largest overall populations (sum of best/latest estimates over all countries)\n",
    "4. name and country of a) longest river, b) largest lake and c) airport at highest elevation"
   ]
  },
  {
   "cell_type": "code",
   "execution_count": 5,
   "metadata": {
    "collapsed": false
   },
   "outputs": [],
   "source": [
    "document = ET.parse( './data/mondial_database.xml' )"
   ]
  },
  {
   "cell_type": "code",
   "execution_count": 6,
   "metadata": {
    "collapsed": false
   },
   "outputs": [],
   "source": [
    "# create empty lists to store country and infant mortality\n",
    "getcountry = []\n",
    "getmortality = []\n",
    "\n",
    "#find the root to loop through\n",
    "getroot = document.getroot()\n",
    "\n",
    "for country in getroot.iter('country'):\n",
    "    # make sure country has a name\n",
    "    if country.find('name') != None:\n",
    "        # make sure there is a value in the country for infant mortality\n",
    "        if country.find('infant_mortality') != None:\n",
    "            getcountry.append(country.find('name').text)\n",
    "            getmortality.append(float(country.find('infant_mortality').text))\n",
    "\n",
    "mortdata = {'country':getcountry, 'infant mortality': getmortality}"
   ]
  },
  {
   "cell_type": "code",
   "execution_count": 7,
   "metadata": {
    "collapsed": false
   },
   "outputs": [
    {
     "name": "stdout",
     "output_type": "stream",
     "text": [
      "The 10 countries with the lowest infant mortality rate are the following: \n",
      "            country  infant mortality\n",
      "36           Monaco              1.81\n",
      "90            Japan              2.13\n",
      "109         Bermuda              2.48\n",
      "34           Norway              2.48\n",
      "98        Singapore              2.53\n",
      "35           Sweden              2.60\n",
      "8    Czech Republic              2.63\n",
      "72        Hong Kong              2.73\n",
      "73            Macao              3.13\n",
      "39          Iceland              3.15\n"
     ]
    }
   ],
   "source": [
    "import pandas as pd\n",
    "\n",
    "# Now sort values in the dataframe by lowest infant mortality rate\n",
    "df1 = pd.DataFrame(mortdata).sort_values(by='infant mortality').head(10)\n",
    "print \"The 10 countries with the lowest infant mortality rate are the following: \"\n",
    "print df1"
   ]
  },
  {
   "cell_type": "code",
   "execution_count": 8,
   "metadata": {
    "collapsed": false
   },
   "outputs": [
    {
     "name": "stdout",
     "output_type": "stream",
     "text": [
      "The 10 cities with the largest population are the following: \n",
      "          city  population\n",
      "8      Beograd     1639121\n",
      "56  Montevideo     1318755\n",
      "23       Sofia     1270284\n",
      "39     Yerevan     1060138\n",
      "42   Kathmandu     1003285\n",
      "18      Zagreb      686568\n",
      "52    Kingston      662426\n",
      "14        Rīga      658640\n",
      "15     Vilnius      535631\n",
      "35      Dublin      525383\n"
     ]
    }
   ],
   "source": [
    "popcity = []\n",
    "largestpop = []\n",
    "for city in getroot.findall('country/city'):\n",
    "    # Make sure city has a value\n",
    "    if city.findtext('name') != None:\n",
    "        for population in city.findall('population'):\n",
    "            if population.attrib['year'] == '2011':\n",
    "                largestpop.append(int(population.text))\n",
    "                popcity.append(city.findtext('name'))\n",
    "data = {'city' : popcity, 'population' : largestpop}\n",
    "df2 = pd.DataFrame(data).sort_values('population', ascending=False).head(10)    \n",
    "print \"The 10 cities with the largest population are the following: \"\n",
    "print df2"
   ]
  },
  {
   "cell_type": "code",
   "execution_count": 9,
   "metadata": {
    "collapsed": false
   },
   "outputs": [
    {
     "name": "stdout",
     "output_type": "stream",
     "text": [
      "The 10 ethnic groups with the largest overall population are the following: \n",
      "             population  percentage     popethnic\n",
      "ethnicity                                        \n",
      "Han Chinese  8101335630      732.00  7.412722e+09\n",
      "Indo-Aryan   6454113551      864.00  4.646962e+09\n",
      "European     6893373256    10371.80  3.287846e+09\n",
      "Dravidian    6454113551      300.00  1.613528e+09\n",
      "African      5712127620    13912.75  1.600036e+09\n",
      "Russian      2667830828     2094.40  1.213847e+09\n",
      "Japanese     1150856873      994.00  1.143952e+09\n",
      "Bengali       817479427     1176.00  8.011298e+08\n",
      "Mestizo      1421167299     7369.60  7.791067e+08\n",
      "Malay        2168394594     3444.10  7.751078e+08\n"
     ]
    }
   ],
   "source": [
    "ethnicitygroup = []\n",
    "largestpop = []\n",
    "for country in getroot.findall('country'):\n",
    "    for population in reversed(country.findall('population')):\n",
    "        largestpop.append(int(population.text))\n",
    "        for ethnicity in country.findall('ethnicgroup'):\n",
    "            ethnicitygroup.append((int(population.text), float(ethnicity.attrib['percentage']), ethnicity.text))\n",
    "df3 = pd.DataFrame(ethnicitygroup, columns=['population', 'percentage', 'ethnicity'])\n",
    "df3['popethnic'] = (df3.population * df3.percentage)/100\n",
    "df3 = df3.groupby('ethnicity').sum().sort_values(by='popethnic', ascending=False).head(10)\n",
    "print \"The 10 ethnic groups with the largest overall population are the following: \"\n",
    "print df3"
   ]
  },
  {
   "cell_type": "code",
   "execution_count": null,
   "metadata": {
    "collapsed": true
   },
   "outputs": [],
   "source": []
  }
 ],
 "metadata": {
  "kernelspec": {
   "display_name": "Python 2",
   "language": "python",
   "name": "python2"
  },
  "language_info": {
   "codemirror_mode": {
    "name": "ipython",
    "version": 2
   },
   "file_extension": ".py",
   "mimetype": "text/x-python",
   "name": "python",
   "nbconvert_exporter": "python",
   "pygments_lexer": "ipython2",
   "version": "2.7.12"
  }
 },
 "nbformat": 4,
 "nbformat_minor": 0
}
